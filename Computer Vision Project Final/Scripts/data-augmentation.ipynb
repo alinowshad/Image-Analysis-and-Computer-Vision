{
 "cells": [
  {
   "cell_type": "code",
   "execution_count": 1,
   "id": "148555c8",
   "metadata": {
    "_cell_guid": "b1076dfc-b9ad-4769-8c92-a6c4dae69d19",
    "_uuid": "8f2839f25d086af736a60e9eeb907d3b93b6e0e5",
    "execution": {
     "iopub.execute_input": "2022-11-11T10:52:16.371973Z",
     "iopub.status.busy": "2022-11-11T10:52:16.370710Z",
     "iopub.status.idle": "2022-11-11T10:52:23.327848Z",
     "shell.execute_reply": "2022-11-11T10:52:23.328411Z",
     "shell.execute_reply.started": "2022-11-11T10:50:16.770685Z"
    },
    "papermill": {
     "duration": 6.976594,
     "end_time": "2022-11-11T10:52:23.328786",
     "exception": false,
     "start_time": "2022-11-11T10:52:16.352192",
     "status": "completed"
    },
    "tags": []
   },
   "outputs": [],
   "source": [
    "# Import essential libraries\n",
    "%matplotlib inline\n",
    "import matplotlib.pyplot as plt\n",
    "import numpy as np\n",
    "import pandas as pd\n",
    "from sklearn.model_selection import StratifiedKFold\n",
    "import itertools\n",
    "import keras\n",
    "import seaborn as sns\n",
    "from glob import glob\n",
    "from PIL import Image\n",
    "from sklearn.preprocessing import label_binarize\n",
    "from sklearn.metrics import confusion_matrix\n",
    "from sklearn.model_selection import train_test_split\n",
    "from keras.utils.np_utils import to_categorical\n",
    "from keras.models import Sequential\n",
    "from keras.callbacks import ReduceLROnPlateau\n",
    "from keras.optimizers import Adam\n",
    "from keras.preprocessing.image import ImageDataGenerator\n",
    "from sklearn.model_selection import train_test_split\n",
    "from keras import backend as K\n",
    "from keras.layers.normalization import BatchNormalization\n",
    "import os\n",
    "import cv2\n",
    "from keras import layers\n",
    "from keras.layers import Input, Add, Dense, Activation, ZeroPadding2D, BatchNormalization, Flatten, Conv2D, AveragePooling2D, MaxPooling2D\n",
    "from keras.models import Model, load_model\n",
    "from keras.initializers import glorot_uniform\n",
    "from keras.utils import plot_model\n",
    "from IPython.display import SVG\n",
    "from keras.utils.vis_utils import model_to_dot\n",
    "import keras.backend as K\n",
    "from keras.models import Sequential\n",
    "from keras import optimizers\n",
    "from keras.layers import Dense, Conv2D, Dropout, Flatten, MaxPooling2D\n",
    "from keras import regularizers\n",
    "from keras.callbacks import Callback\n",
    "from keras import backend\n",
    "from keras.models import load_model\n",
    "from sklearn.metrics import roc_curve\n",
    "from sklearn.metrics import auc"
   ]
  },
  {
   "cell_type": "code",
   "execution_count": 2,
   "id": "3fda10d9",
   "metadata": {
    "execution": {
     "iopub.execute_input": "2022-11-11T10:52:23.360020Z",
     "iopub.status.busy": "2022-11-11T10:52:23.358981Z",
     "iopub.status.idle": "2022-11-11T10:52:24.534007Z",
     "shell.execute_reply": "2022-11-11T10:52:24.533427Z",
     "shell.execute_reply.started": "2022-11-11T10:50:27.501091Z"
    },
    "papermill": {
     "duration": 1.19154,
     "end_time": "2022-11-11T10:52:24.534167",
     "exception": false,
     "start_time": "2022-11-11T10:52:23.342627",
     "status": "completed"
    },
    "tags": []
   },
   "outputs": [],
   "source": [
    "homework_directory = os.path.join('../', 'input//training_data_final/')\n",
    "\n",
    "# creating a directory for all images present with us and bringing them under same directory\n",
    "image_directory = {os.path.splitext(os.path.basename(x))[0]: x\n",
    "                     for x in glob(os.path.join(homework_directory, '*', '*.jpg'))}"
   ]
  },
  {
   "cell_type": "code",
   "execution_count": 3,
   "id": "2aa80d87",
   "metadata": {
    "execution": {
     "iopub.execute_input": "2022-11-11T10:52:24.566442Z",
     "iopub.status.busy": "2022-11-11T10:52:24.565708Z",
     "iopub.status.idle": "2022-11-11T10:52:24.570039Z",
     "shell.execute_reply": "2022-11-11T10:52:24.569365Z",
     "shell.execute_reply.started": "2022-11-11T10:50:27.905490Z"
    },
    "papermill": {
     "duration": 0.022708,
     "end_time": "2022-11-11T10:52:24.570197",
     "exception": false,
     "start_time": "2022-11-11T10:52:24.547489",
     "status": "completed"
    },
    "tags": []
   },
   "outputs": [],
   "source": [
    "Species1 = []\n",
    "for dirname, _, filenames in os.walk(os.path.join(homework_directory, 'Species1')):\n",
    "    for filename in filenames:\n",
    "        if (filename[-3:] == 'jpg'):\n",
    "            Species1.append(os.path.join(dirname, filename))"
   ]
  },
  {
   "cell_type": "code",
   "execution_count": 4,
   "id": "a9dfeace",
   "metadata": {
    "execution": {
     "iopub.execute_input": "2022-11-11T10:52:24.611987Z",
     "iopub.status.busy": "2022-11-11T10:52:24.611177Z",
     "iopub.status.idle": "2022-11-11T10:52:24.614179Z",
     "shell.execute_reply": "2022-11-11T10:52:24.613538Z",
     "shell.execute_reply.started": "2022-11-11T10:50:44.476631Z"
    },
    "papermill": {
     "duration": 0.030628,
     "end_time": "2022-11-11T10:52:24.614380",
     "exception": false,
     "start_time": "2022-11-11T10:52:24.583752",
     "status": "completed"
    },
    "tags": []
   },
   "outputs": [],
   "source": [
    "df = pd.DataFrame(columns = ['path'])"
   ]
  },
  {
   "cell_type": "code",
   "execution_count": 5,
   "id": "da6c9351",
   "metadata": {
    "execution": {
     "iopub.execute_input": "2022-11-11T10:52:24.756828Z",
     "iopub.status.busy": "2022-11-11T10:52:24.756071Z",
     "iopub.status.idle": "2022-11-11T10:52:25.022179Z",
     "shell.execute_reply": "2022-11-11T10:52:25.021625Z",
     "shell.execute_reply.started": "2022-11-11T10:50:44.633979Z"
    },
    "papermill": {
     "duration": 0.394264,
     "end_time": "2022-11-11T10:52:25.022353",
     "exception": false,
     "start_time": "2022-11-11T10:52:24.628089",
     "status": "completed"
    },
    "tags": []
   },
   "outputs": [],
   "source": [
    "for index1 in Species1:\n",
    "    df=df.append({'path' : str(index1)} , ignore_index=True)"
   ]
  },
  {
   "cell_type": "code",
   "execution_count": 6,
   "id": "f897729e",
   "metadata": {
    "execution": {
     "iopub.execute_input": "2022-11-11T10:52:25.061012Z",
     "iopub.status.busy": "2022-11-11T10:52:25.059985Z",
     "iopub.status.idle": "2022-11-11T10:52:25.073733Z",
     "shell.execute_reply": "2022-11-11T10:52:25.074243Z",
     "shell.execute_reply.started": "2022-11-11T10:50:45.229506Z"
    },
    "papermill": {
     "duration": 0.038321,
     "end_time": "2022-11-11T10:52:25.074424",
     "exception": false,
     "start_time": "2022-11-11T10:52:25.036103",
     "status": "completed"
    },
    "tags": []
   },
   "outputs": [
    {
     "data": {
      "text/html": [
       "<div>\n",
       "<style scoped>\n",
       "    .dataframe tbody tr th:only-of-type {\n",
       "        vertical-align: middle;\n",
       "    }\n",
       "\n",
       "    .dataframe tbody tr th {\n",
       "        vertical-align: top;\n",
       "    }\n",
       "\n",
       "    .dataframe thead th {\n",
       "        text-align: right;\n",
       "    }\n",
       "</style>\n",
       "<table border=\"1\" class=\"dataframe\">\n",
       "  <thead>\n",
       "    <tr style=\"text-align: right;\">\n",
       "      <th></th>\n",
       "      <th>path</th>\n",
       "    </tr>\n",
       "  </thead>\n",
       "  <tbody>\n",
       "    <tr>\n",
       "      <th>181</th>\n",
       "      <td>../input/anndl-homework-1/training_data_final/...</td>\n",
       "    </tr>\n",
       "    <tr>\n",
       "      <th>182</th>\n",
       "      <td>../input/anndl-homework-1/training_data_final/...</td>\n",
       "    </tr>\n",
       "    <tr>\n",
       "      <th>183</th>\n",
       "      <td>../input/anndl-homework-1/training_data_final/...</td>\n",
       "    </tr>\n",
       "    <tr>\n",
       "      <th>184</th>\n",
       "      <td>../input/anndl-homework-1/training_data_final/...</td>\n",
       "    </tr>\n",
       "    <tr>\n",
       "      <th>185</th>\n",
       "      <td>../input/anndl-homework-1/training_data_final/...</td>\n",
       "    </tr>\n",
       "  </tbody>\n",
       "</table>\n",
       "</div>"
      ],
      "text/plain": [
       "                                                  path\n",
       "181  ../input/anndl-homework-1/training_data_final/...\n",
       "182  ../input/anndl-homework-1/training_data_final/...\n",
       "183  ../input/anndl-homework-1/training_data_final/...\n",
       "184  ../input/anndl-homework-1/training_data_final/...\n",
       "185  ../input/anndl-homework-1/training_data_final/..."
      ]
     },
     "execution_count": 6,
     "metadata": {},
     "output_type": "execute_result"
    }
   ],
   "source": [
    "df.tail()"
   ]
  },
  {
   "cell_type": "code",
   "execution_count": 7,
   "id": "374c5040",
   "metadata": {
    "execution": {
     "iopub.execute_input": "2022-11-11T10:52:25.108946Z",
     "iopub.status.busy": "2022-11-11T10:52:25.108238Z",
     "iopub.status.idle": "2022-11-11T10:52:26.000730Z",
     "shell.execute_reply": "2022-11-11T10:52:25.999930Z",
     "shell.execute_reply.started": "2022-11-11T10:50:46.088879Z"
    },
    "papermill": {
     "duration": 0.912245,
     "end_time": "2022-11-11T10:52:26.000897",
     "exception": false,
     "start_time": "2022-11-11T10:52:25.088652",
     "status": "completed"
    },
    "tags": []
   },
   "outputs": [],
   "source": [
    "df['image'] = df['path'].map(lambda x: np.asarray(Image.open(x)))"
   ]
  },
  {
   "cell_type": "code",
   "execution_count": 8,
   "id": "b7ae4880",
   "metadata": {
    "execution": {
     "iopub.execute_input": "2022-11-11T10:52:26.036014Z",
     "iopub.status.busy": "2022-11-11T10:52:26.035001Z",
     "iopub.status.idle": "2022-11-11T10:52:26.038499Z",
     "shell.execute_reply": "2022-11-11T10:52:26.037989Z",
     "shell.execute_reply.started": "2022-11-11T10:50:48.938233Z"
    },
    "papermill": {
     "duration": 0.023411,
     "end_time": "2022-11-11T10:52:26.038694",
     "exception": false,
     "start_time": "2022-11-11T10:52:26.015283",
     "status": "completed"
    },
    "tags": []
   },
   "outputs": [],
   "source": [
    "datagen = ImageDataGenerator(\n",
    "        featurewise_center=False,  # set input mean to 0 over the dataset\n",
    "        samplewise_center=False,  # set each sample mean to 0\n",
    "        featurewise_std_normalization=False,  # divide inputs by std of the dataset\n",
    "        samplewise_std_normalization=False,  # divide each input by its std\n",
    "        zca_whitening=False,  # apply ZCA whitening\n",
    "        rotation_range = 90,  # randomly rotate images in the range (degrees, 0 to 180)\n",
    "        zoom_range = 0.2, # Randomly zoom image \n",
    "        width_shift_range=0.1,  # randomly shift images horizontally (fraction of total width)\n",
    "        height_shift_range=0.1,  # randomly shift images vertically (fraction of total height)\n",
    "        horizontal_flip = True,  # randomly flip images\n",
    "        vertical_flip=False)"
   ]
  },
  {
   "cell_type": "code",
   "execution_count": 9,
   "id": "17b79734",
   "metadata": {
    "execution": {
     "iopub.execute_input": "2022-11-11T10:52:26.073023Z",
     "iopub.status.busy": "2022-11-11T10:52:26.071688Z",
     "iopub.status.idle": "2022-11-11T10:52:26.079012Z",
     "shell.execute_reply": "2022-11-11T10:52:26.078400Z",
     "shell.execute_reply.started": "2022-11-11T10:50:50.797925Z"
    },
    "papermill": {
     "duration": 0.026543,
     "end_time": "2022-11-11T10:52:26.079158",
     "exception": false,
     "start_time": "2022-11-11T10:52:26.052615",
     "status": "completed"
    },
    "tags": []
   },
   "outputs": [],
   "source": [
    "images = np.asarray(df['image'].tolist())"
   ]
  },
  {
   "cell_type": "code",
   "execution_count": 10,
   "id": "297033fa",
   "metadata": {
    "execution": {
     "iopub.execute_input": "2022-11-11T10:52:26.112514Z",
     "iopub.status.busy": "2022-11-11T10:52:26.111763Z",
     "iopub.status.idle": "2022-11-11T10:52:26.115307Z",
     "shell.execute_reply": "2022-11-11T10:52:26.114773Z",
     "shell.execute_reply.started": "2022-11-11T10:51:03.915156Z"
    },
    "papermill": {
     "duration": 0.022406,
     "end_time": "2022-11-11T10:52:26.115464",
     "exception": false,
     "start_time": "2022-11-11T10:52:26.093058",
     "status": "completed"
    },
    "tags": []
   },
   "outputs": [],
   "source": [
    "images = images.reshape((images.shape[0], 96, 96, 3))"
   ]
  },
  {
   "cell_type": "code",
   "execution_count": 11,
   "id": "f9eb86d6",
   "metadata": {
    "execution": {
     "iopub.execute_input": "2022-11-11T10:52:26.149126Z",
     "iopub.status.busy": "2022-11-11T10:52:26.147682Z",
     "iopub.status.idle": "2022-11-11T10:52:26.168850Z",
     "shell.execute_reply": "2022-11-11T10:52:26.168148Z",
     "shell.execute_reply.started": "2022-11-11T10:51:05.068520Z"
    },
    "papermill": {
     "duration": 0.039525,
     "end_time": "2022-11-11T10:52:26.169023",
     "exception": false,
     "start_time": "2022-11-11T10:52:26.129498",
     "status": "completed"
    },
    "tags": []
   },
   "outputs": [],
   "source": [
    "datagen.fit(images)"
   ]
  },
  {
   "cell_type": "code",
   "execution_count": 12,
   "id": "70ac09a8",
   "metadata": {
    "execution": {
     "iopub.execute_input": "2022-11-11T10:52:26.202032Z",
     "iopub.status.busy": "2022-11-11T10:52:26.201096Z",
     "iopub.status.idle": "2022-11-11T10:52:26.204250Z",
     "shell.execute_reply": "2022-11-11T10:52:26.203631Z",
     "shell.execute_reply.started": "2022-11-11T10:51:09.957259Z"
    },
    "papermill": {
     "duration": 0.021546,
     "end_time": "2022-11-11T10:52:26.204398",
     "exception": false,
     "start_time": "2022-11-11T10:52:26.182852",
     "status": "completed"
    },
    "tags": []
   },
   "outputs": [],
   "source": [
    "Dataset = []\n",
    "for i in range(len(images)):\n",
    "    Dataset.append(images[i])"
   ]
  },
  {
   "cell_type": "code",
   "execution_count": 13,
   "id": "2a452a65",
   "metadata": {
    "execution": {
     "iopub.execute_input": "2022-11-11T10:52:26.238621Z",
     "iopub.status.busy": "2022-11-11T10:52:26.237867Z",
     "iopub.status.idle": "2022-11-11T10:52:27.066947Z",
     "shell.execute_reply": "2022-11-11T10:52:27.066245Z",
     "shell.execute_reply.started": "2022-11-11T10:51:22.618310Z"
    },
    "papermill": {
     "duration": 0.848857,
     "end_time": "2022-11-11T10:52:27.067097",
     "exception": false,
     "start_time": "2022-11-11T10:52:26.218240",
     "status": "completed"
    },
    "tags": []
   },
   "outputs": [],
   "source": [
    "from matplotlib import pyplot\n",
    "for X_batch in datagen.flow(images, batch_size=10):\n",
    "    for j in range(len(X_batch)):\n",
    "        X_batch[j] = np.asarray(X_batch[j])\n",
    "        X_batch[j] = X_batch[j].astype('float32')\n",
    "        Dataset.append(X_batch[j])\n",
    "    if len(Dataset) > 550:\n",
    "        break"
   ]
  },
  {
   "cell_type": "code",
   "execution_count": 14,
   "id": "a5d61f4c",
   "metadata": {
    "execution": {
     "iopub.execute_input": "2022-11-11T10:52:27.103248Z",
     "iopub.status.busy": "2022-11-11T10:52:27.102593Z",
     "iopub.status.idle": "2022-11-11T10:52:27.318807Z",
     "shell.execute_reply": "2022-11-11T10:52:27.319307Z",
     "shell.execute_reply.started": "2022-11-11T10:51:39.435151Z"
    },
    "papermill": {
     "duration": 0.237843,
     "end_time": "2022-11-11T10:52:27.319519",
     "exception": false,
     "start_time": "2022-11-11T10:52:27.081676",
     "status": "completed"
    },
    "tags": []
   },
   "outputs": [],
   "source": [
    "count = 1\n",
    "for i in range(len(Dataset)):\n",
    "    save_path = \"Im-\"+str(count)+\".jpg\"\n",
    "    cv2.imwrite(save_path,Dataset[i])\n",
    "    count += 1"
   ]
  },
  {
   "cell_type": "code",
   "execution_count": 15,
   "id": "3cca7585",
   "metadata": {
    "execution": {
     "iopub.execute_input": "2022-11-11T10:52:27.353372Z",
     "iopub.status.busy": "2022-11-11T10:52:27.351665Z",
     "iopub.status.idle": "2022-11-11T10:52:27.354108Z",
     "shell.execute_reply": "2022-11-11T10:52:27.354599Z",
     "shell.execute_reply.started": "2021-07-10T08:13:40.905641Z"
    },
    "papermill": {
     "duration": 0.020632,
     "end_time": "2022-11-11T10:52:27.354777",
     "exception": false,
     "start_time": "2022-11-11T10:52:27.334145",
     "status": "completed"
    },
    "tags": []
   },
   "outputs": [],
   "source": [
    "#from zipfile import ZipFile\n",
    "#import os\n",
    "\n",
    "#zipObj = ZipFile('Melanoma-256x256-(SIIM-ISIC).zip', 'w')\n",
    "\n",
    "#for filename in os.listdir(\"/kaggle/working\"):\n",
    "#    if filename.endswith(\".jpg\"):\n",
    "#        zipObj.write(filename)\n",
    "#        os.remove(filename)\n",
    "#zipObj.close()"
   ]
  },
  {
   "cell_type": "code",
   "execution_count": null,
   "id": "a6b2e000",
   "metadata": {
    "papermill": {
     "duration": 0.013236,
     "end_time": "2022-11-11T10:52:27.381877",
     "exception": false,
     "start_time": "2022-11-11T10:52:27.368641",
     "status": "completed"
    },
    "tags": []
   },
   "outputs": [],
   "source": []
  },
  {
   "cell_type": "code",
   "execution_count": null,
   "id": "11ba44cd",
   "metadata": {
    "papermill": {
     "duration": 0.01432,
     "end_time": "2022-11-11T10:52:27.410115",
     "exception": false,
     "start_time": "2022-11-11T10:52:27.395795",
     "status": "completed"
    },
    "tags": []
   },
   "outputs": [],
   "source": []
  }
 ],
 "metadata": {
  "kernelspec": {
   "display_name": "Python 3",
   "language": "python",
   "name": "python3"
  },
  "language_info": {
   "codemirror_mode": {
    "name": "ipython",
    "version": 3
   },
   "file_extension": ".py",
   "mimetype": "text/x-python",
   "name": "python",
   "nbconvert_exporter": "python",
   "pygments_lexer": "ipython3",
   "version": "3.7.10"
  },
  "papermill": {
   "default_parameters": {},
   "duration": 20.774734,
   "end_time": "2022-11-11T10:52:29.300677",
   "environment_variables": {},
   "exception": null,
   "input_path": "__notebook__.ipynb",
   "output_path": "__notebook__.ipynb",
   "parameters": {},
   "start_time": "2022-11-11T10:52:08.525943",
   "version": "2.3.3"
  }
 },
 "nbformat": 4,
 "nbformat_minor": 5
}
