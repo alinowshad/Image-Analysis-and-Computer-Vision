{
 "cells": [
  {
   "cell_type": "code",
   "execution_count": 1,
   "id": "e24e8fc1",
   "metadata": {},
   "outputs": [
    {
     "name": "stdout",
     "output_type": "stream",
     "text": [
      "Requirement already satisfied: opencv-python in c:\\users\\alino\\anaconda3\\lib\\site-packages (4.9.0.80)\n",
      "Requirement already satisfied: numpy>=1.17.3 in c:\\users\\alino\\anaconda3\\lib\\site-packages (from opencv-python) (1.21.5)\n"
     ]
    }
   ],
   "source": [
    "! pip install opencv-python"
   ]
  },
  {
   "cell_type": "code",
   "execution_count": 14,
   "id": "f93da587",
   "metadata": {},
   "outputs": [
    {
     "name": "stdout",
     "output_type": "stream",
     "text": [
      "633   517\n",
      "635   618\n",
      "748   616\n",
      "744   515\n",
      "545   517\n",
      "543   618\n",
      "633   616\n",
      "632   518\n"
     ]
    }
   ],
   "source": [
    "# importing the module \n",
    "import cv2 \n",
    "\n",
    "# function to display the coordinates of \n",
    "# of the points clicked on the image \n",
    "def click_event(event, x, y, flags, params): \n",
    "\n",
    "\t# checking for left mouse clicks \n",
    "\tif event == cv2.EVENT_LBUTTONDOWN: \n",
    "\n",
    "\t\t# displaying the coordinates \n",
    "\t\t# on the Shell \n",
    "\t\tprint(x, ' ', y) \n",
    "\n",
    "\t\t# displaying the coordinates \n",
    "\t\t# on the image window \n",
    "\t\tfont = cv2.FONT_HERSHEY_SIMPLEX \n",
    "\t\tcv2.putText(img, str(x) + ',' +\n",
    "\t\t\t\t\tstr(y), (x,y), font, \n",
    "\t\t\t\t\t1, (255, 0, 0), 2) \n",
    "\t\tcv2.imshow('image', img) \n",
    "\n",
    "\t# checking for right mouse clicks\t \n",
    "\tif event==cv2.EVENT_RBUTTONDOWN: \n",
    "\n",
    "\t\t# displaying the coordinates \n",
    "\t\t# on the Shell \n",
    "\t\tprint(x, ' ', y) \n",
    "\n",
    "\t\t# displaying the coordinates \n",
    "\t\t# on the image window \n",
    "\t\tfont = cv2.FONT_HERSHEY_SIMPLEX \n",
    "\t\tb = img[y, x, 0] \n",
    "\t\tg = img[y, x, 1] \n",
    "\t\tr = img[y, x, 2] \n",
    "\t\tcv2.putText(img, str(b) + ',' +\n",
    "\t\t\t\t\tstr(g) + ',' + str(r), \n",
    "\t\t\t\t\t(x,y), font, 1, \n",
    "\t\t\t\t\t(255, 255, 0), 2) \n",
    "\t\tcv2.imshow('image', img) \n",
    "\n",
    "# driver function \n",
    "if __name__==\"__main__\": \n",
    "\n",
    "\t# reading the image \n",
    "\timg = cv2.imread(\"C:/Users/alino/Downloads/saved_frame (3).png\", 1) \n",
    "\n",
    "\t# displaying the image \n",
    "\tcv2.imshow('image', img) \n",
    "\n",
    "\t# setting mouse handler for the image \n",
    "\t# and calling the click_event() function \n",
    "\tcv2.setMouseCallback('image', click_event) \n",
    "\n",
    "\t# wait for a key to be pressed to exit \n",
    "\tcv2.waitKey(0) \n",
    "\n",
    "\t# close the window \n",
    "\tcv2.destroyAllWindows() "
   ]
  },
  {
   "cell_type": "code",
   "execution_count": null,
   "id": "b1918091",
   "metadata": {},
   "outputs": [],
   "source": []
  },
  {
   "cell_type": "code",
   "execution_count": null,
   "id": "d252c800",
   "metadata": {},
   "outputs": [],
   "source": []
  }
 ],
 "metadata": {
  "kernelspec": {
   "display_name": "Python 3 (ipykernel)",
   "language": "python",
   "name": "python3"
  },
  "language_info": {
   "codemirror_mode": {
    "name": "ipython",
    "version": 3
   },
   "file_extension": ".py",
   "mimetype": "text/x-python",
   "name": "python",
   "nbconvert_exporter": "python",
   "pygments_lexer": "ipython3",
   "version": "3.9.12"
  }
 },
 "nbformat": 4,
 "nbformat_minor": 5
}
